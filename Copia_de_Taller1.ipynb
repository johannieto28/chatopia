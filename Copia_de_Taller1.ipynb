{
  "cells": [
    {
      "cell_type": "markdown",
      "metadata": {
        "id": "view-in-github",
        "colab_type": "text"
      },
      "source": [
        "<a href=\"https://colab.research.google.com/github/johannieto28/chatopia/blob/main/Copia_de_Taller1.ipynb\" target=\"_parent\"><img src=\"https://colab.research.google.com/assets/colab-badge.svg\" alt=\"Open In Colab\"/></a>"
      ]
    },
    {
      "metadata": {
        "id": "fbb0324b"
      },
      "id": "fbb0324b",
      "cell_type": "markdown",
      "source": [
        "# Algoritmos Geneticos\n",
        "\n",
        "Para el problema siguiente, haga:\n",
        "\n",
        "1. Codifique un GA simple para resolver el problema. Para hacer esto, necesita codificar el problema, usar un cruce de un solo punto y un cambio de bits o una mutación de 2 opciones, usar una forma de selección de ruleta o selección de torneo, establecer un tamaño de población y seleccionar un criterio de parada.\n",
        "2. Ejecute su GA.\n",
        "3. Realice los siguientes cambios en su código GA (uno por uno) y compare el resultados.\n",
        "* Cambiar los puntos de partida iniciales (soluciones iniciales) diez veces\n",
        "* Cambiar la probabilidad de cruce dos veces\n",
        "* Cambiar la probabilidad de mutación dos veces\n",
        "* Cambiar el tamaño de la población dos veces\n",
        "* Cambie la semilla del número aleatorio diez veces\n",
        "4. Incluya su código con su tarea.\n",
        "5. Indique que el porcentaje de cada miembro del equipo contribuye a este asignación (solo si trabaja con otros).\n",
        "6. No copie el trabajo de otro equipo/individuo. Cualquiera/cualquier equipo que viole este reglamento recibirá una calificación de cero para este taller.\n",
        "Incluyo el óptimo global para cada problema como referencia, pero no lo use en su metodología de solución."
      ]
    },
    {
      "metadata": {
        "id": "a59a6434"
      },
      "id": "a59a6434",
      "cell_type": "markdown",
      "source": [
        "## Problema\n",
        "\n",
        "Dada un área que tiene una cantidad de discos que no se superponen esparcidos por su superficie, como se muestra en la figura 1,\n",
        "\n",
        "![](https://github.com/LeidyMara/HPC_SquareMatrix/blob/main/fig01.jpg?raw=1)\n",
        "\n",
        "Utilice un algoritmo genético para encontrar el disco de mayor radio que se puede colocar entre estos discos sin superponer ninguno de ellos.  Ver figura 2.\n",
        "\n",
        "![](https://github.com/LeidyMara/HPC_SquareMatrix/blob/main/fig02.jpg?raw=1)"
      ]
    },
    {
      "cell_type": "code",
      "source": [
        "!pip install deap"
      ],
      "metadata": {
        "id": "u8ePpiJi7l9Q",
        "outputId": "cdf86941-ff1d-492b-c8bb-d1cff1fab155",
        "colab": {
          "base_uri": "https://localhost:8080/"
        }
      },
      "id": "u8ePpiJi7l9Q",
      "execution_count": null,
      "outputs": [
        {
          "output_type": "stream",
          "name": "stdout",
          "text": [
            "Collecting deap\n",
            "  Downloading deap-1.4.1-cp310-cp310-manylinux_2_5_x86_64.manylinux1_x86_64.manylinux_2_17_x86_64.manylinux2014_x86_64.whl (135 kB)\n",
            "\u001b[2K     \u001b[90m━━━━━━━━━━━━━━━━━━━━━━━━━━━━━━━━━━━━━━━━\u001b[0m \u001b[32m135.4/135.4 kB\u001b[0m \u001b[31m1.5 MB/s\u001b[0m eta \u001b[36m0:00:00\u001b[0m\n",
            "\u001b[?25hRequirement already satisfied: numpy in /usr/local/lib/python3.10/dist-packages (from deap) (1.25.2)\n",
            "Installing collected packages: deap\n",
            "Successfully installed deap-1.4.1\n"
          ]
        }
      ]
    },
    {
      "cell_type": "code",
      "source": [
        "from PIL import Image\n",
        "from PIL import ImageFont\n",
        "from PIL import ImageDraw\n",
        "\n",
        "from deap import base, creator, tools, algorithms\n",
        "\n",
        "from dataclasses import dataclass\n",
        "from math import pi, asin, acos, sin, cos, fabs, sqrt\n",
        "\n",
        "import numpy as np\n",
        "import random"
      ],
      "metadata": {
        "id": "w2Mr13Tgg13o"
      },
      "id": "w2Mr13Tgg13o",
      "execution_count": null,
      "outputs": []
    },
    {
      "metadata": {
        "trusted": false,
        "id": "b7723926"
      },
      "id": "b7723926",
      "cell_type": "code",
      "source": [
        "# define.py\n",
        "\n",
        "WINDOW_WIDTH     = 400\n",
        "WINDOW_HEIGHT\t   = 400\n",
        "\n",
        "CROSSOVER_RATE   = 0.8\n",
        "MUTATION_RATE    = 0.05\n",
        "NGEN = 100\n",
        "\n",
        "NUM_ELITE        = 4\n",
        "NUM_COPIES_ELITE = 1\n",
        "\n",
        "POP_SIZE         = 150\n",
        "\n",
        "GENE_LENGTH      = 10\n",
        "CHROMO_LENGTH    = 3 * GENE_LENGTH\n",
        "\n",
        "NUM_CIRCLES      = 20\n",
        "MIN_RAD          = 10\n",
        "MAX_RAD          = 30\n",
        "\n",
        "BIT_MULTIPLIER   = pow(2, GENE_LENGTH)"
      ],
      "execution_count": null,
      "outputs": []
    },
    {
      "cell_type": "code",
      "source": [
        "# define 2D point\n",
        "@dataclass\n",
        "class Point:\n",
        "\tx : float\n",
        "\ty : float\n",
        "\n",
        "\tdef distance(self, other):\n",
        "\t\tif not isinstance(other, Point):\n",
        "\t\t\traise RuntimeError('no es un punto')\n",
        "\t\tx1, y1 = self.x, self.y\n",
        "\t\tx2, y2 = other.x, other.y\n",
        "\t\treturn sqrt((x2 - x1) ** 2 + (y2 - y1) ** 2)\n",
        "\n",
        "\n",
        "# define a circle\n",
        "@dataclass\n",
        "class Circle:\n",
        "\tcenter : Point\n",
        "\tradius : float\n",
        "\n",
        "\t@property\n",
        "\tdef area(self):\n",
        "\t\treturn pi * self.radius ** 2\n",
        "\n",
        "\tdef distance(self, other):\n",
        "\t\tif not isinstance(other, Circle):\n",
        "\t\t\traise RuntimeError('no es un circulo')\n",
        "\t\tp1, p2 = self.center, other.center\n",
        "\t\treturn p1.distance(p2)\n",
        "\n",
        "\tdef is_overlapped(self, other):\n",
        "\t\t'''\n",
        "\t\treturns True if the two circles overlap\n",
        "\t\t'''\n",
        "\t\tdist = self.distance(other)\n",
        "\t\tr1 = self.radius\n",
        "\t\tr2 = other.radius\n",
        "\n",
        "\t\tif dist < (r1+r2) or dist < fabs(r1-r2):\n",
        "\t\t\treturn True\n",
        "\t\treturn False\n",
        "\n",
        "\tdef is_enclosed(self, other):\n",
        "\t\t'''\n",
        "\t\treturns True if one circle encloses the other\n",
        "\t\t'''\n",
        "\t\tdist = self.distance(other)\n",
        "\t\tr1 = self.radius\n",
        "\t\tr2 = other.radius\n",
        "\n",
        "\t\tif dist < fabs(r1-r2):\n",
        "\t\t\treturn True\n",
        "\t\treturn False\n",
        "\n",
        "\tdef intersection_points(self, other):\n",
        "\t\t'''\n",
        "\t\tGiven two circles this function calculates the\n",
        "\t\tintersection points of any overlap.\n",
        "\n",
        "\t\treturns [] if no overlap found\n",
        "\n",
        "\t\tsee http://astronomy.swin.edu.au/~pbourke/geometry/2circle/\n",
        "\t\t'''\n",
        "\t\t# check to see if they overlap\n",
        "\t\tif not self.is_overlapped(other):\n",
        "\t\t\treturn []\n",
        "\n",
        "\t\t# calculate the distance between the circle centers\n",
        "\t\td  = self.distance(other)\n",
        "\t\tr1 = self.radius\n",
        "\t\tr2 = other.radius\n",
        "\n",
        "\t\t# Now calculate the distance from the center of each\n",
        "\t\t# circle to the center of the line which connects\n",
        "\t\t# the intersection points.\n",
        "\t\ta = (r1 - r2 + d ** 2) / (2 * d)\n",
        "\t\tb = (r2 - r1 + d ** 2) / (2 * d)\n",
        "\n",
        "\t\t# MAYBE A TEST FOR EXACT OVERLAP?\n",
        "\n",
        "\t\t# calculate the point P2 which is the center of the\n",
        "\t\t# line which connects the intersection points\n",
        "\t\tx1, y1 = self.center.x, self.center.y\n",
        "\t\tx2, y2 = other.center.x, other.center.y\n",
        "\n",
        "\t\tp2X = x1 + a * (x2 - x1) / d\n",
        "\t\tp2Y = y1 + a * (y2 - y1) / d\n",
        "\n",
        "\t\tpoints = []\n",
        "\n",
        "\t\t# calculate first point\n",
        "\t\th1 = sqrt(r1 ** 2 - a ** 2)\n",
        "\n",
        "\t\tp3X = p2X - h1 * (y2 - y1) / d\n",
        "\t\tp3Y = p2Y + h1 * (x2 - x1) / d\n",
        "\t\tpoints.append(Point(p3X, p3Y))\n",
        "\n",
        "\t\t# calculate second point\n",
        "\t\th2 = sqrt(r2 ** 2 - a ** 2)\n",
        "\n",
        "\t\tp4X = p2X + h2 * (y2 - y1) / d\n",
        "\t\tp4Y = p2Y - h2 * (x2 - x1) / d\n",
        "\t\tpoints.append(Point(p4X, p4Y))\n",
        "\n",
        "\t\treturn points\n",
        "\n",
        "\tdef intersection_area(self, other):\n",
        "\t\t'''\n",
        "\t\tTests to see if two circles overlap and if so\n",
        "\t\tcalculates the area defined by the union\n",
        "\n",
        "\t\tsee http://mathforum.org/library/drmath/view/54785.html\n",
        "\t\t'''\n",
        "\t\t# first calculate the intersection points\n",
        "\n",
        "\t\tpoints = self.intersection_points(other)\n",
        "\n",
        "\t\tif len(points) == 0:\n",
        "\t\t\treturn 0\t# no overlap\n",
        "\n",
        "\t\t# calculate the distance between the circle centers\n",
        "\t\td  = self.distance(other)\n",
        "\t\tr1 = self.radius\n",
        "\t\tr2 = other.radius\n",
        "\n",
        "\t\t# find the angles given that A and B are the two circle\n",
        "\t\t# centers and C and D are the intersection points\n",
        "\t\tCBD = 2 * acos((r2*r2 + d*d - r1*r1) / (r2 * d * 2))\n",
        "\n",
        "\t\tCAD = 2 * acos((r1*r1 + d*d - r2*r2) / (r1 * d * 2))\n",
        "\n",
        "\t\t# Then we find the segment of each of the circles cut off\n",
        "\t\t# by the chord CD, by taking the area of the sector of the\n",
        "\t\t# circle BCD and subtracting the area of triangle BCD.\n",
        "\t\t# Similarly we find the area of the sector ACD and subtract\n",
        "\t\t# the area of triangle ACD.\n",
        "\n",
        "\t\treturn 0.5*(CBD*r2*r2 - r2*r2*sin(CBD) + CAD*r1*r1 - r1*r1*sin(CAD))\n",
        "\n",
        "def init_circles(num_circles, min_rad, max_rad):\n",
        "\t'''\n",
        "\tcreate a number of randomly sized circles\n",
        "\t'''\n",
        "\tcircles = []\n",
        "\n",
        "\tfor _ in range(num_circles):\n",
        "\t\tr = random.randint(min_rad,max_rad)\n",
        "\t\tx = random.randint(r,WINDOW_WIDTH-r)\n",
        "\t\ty = random.randint(r,WINDOW_HEIGHT-r-30)\n",
        "\n",
        "\t\tc1 = Circle(Point(x,y), r)\n",
        "\n",
        "\t\tis_overlapped = False\n",
        "\t\tfor c in circles:\n",
        "\t\t\tif c.is_overlapped(c1):\n",
        "\t\t\t\tis_overlapped = True\n",
        "\t\t\t\tbreak\n",
        "\n",
        "\t\tif not is_overlapped:\n",
        "\t\t\tcircles.append(c1)\n",
        "\n",
        "\treturn circles"
      ],
      "metadata": {
        "id": "xMlWXkaNfawK"
      },
      "id": "xMlWXkaNfawK",
      "execution_count": null,
      "outputs": []
    },
    {
      "cell_type": "code",
      "source": [
        "circles = init_circles(NUM_CIRCLES, MIN_RAD, MAX_RAD)"
      ],
      "metadata": {
        "id": "BjZxO5HHhSsJ"
      },
      "id": "BjZxO5HHhSsJ",
      "execution_count": null,
      "outputs": []
    },
    {
      "cell_type": "code",
      "source": [
        "img = Image.new('RGBA',\n",
        "  (WINDOW_WIDTH, WINDOW_HEIGHT),\n",
        "  (255,255,255))\n",
        "draw = ImageDraw.Draw(img)\n",
        "\n",
        "for c in circles:\n",
        "  x, y = c.center.x, c.center.y\n",
        "  r = c.radius\n",
        "  draw.ellipse((x-r, y-r, x+r, y+r),\n",
        "    outline=(0,0,0))\n",
        "\n",
        "img"
      ],
      "metadata": {
        "id": "WJEuwMAEkwAB",
        "outputId": "a7822fbb-c6fa-43f0-b356-014dfb4ac6b2",
        "colab": {
          "base_uri": "https://localhost:8080/",
          "height": 417
        }
      },
      "id": "WJEuwMAEkwAB",
      "execution_count": null,
      "outputs": [
        {
          "output_type": "execute_result",
          "data": {
            "text/plain": [
              "<PIL.Image.Image image mode=RGBA size=400x400>"
            ],
            "image/png": "[encoded data removed]"
          },
          "metadata": {},
          "execution_count": 5
        }
      ]
    },
    {
      "cell_type": "code",
      "source": [
        "def decode(individual):\n",
        "  r, x, y = individual\n",
        "  return Circle(Point(x,y),r)\n",
        "\n",
        "def evalCircle(individual):\n",
        "  c1 = decode(individual)\n",
        "  area = c1.area\n",
        "\n",
        "  for c in circles:\n",
        "    if c.is_overlapped(c1):\n",
        "     # area *= -1 (penalización, area negativa)\n",
        "      break\n",
        "\n",
        "  return area,"
      ],
      "metadata": {
        "id": "TN_CK02Smv2Q"
      },
      "id": "TN_CK02Smv2Q",
      "execution_count": null,
      "outputs": []
    },
    {
      "cell_type": "code",
      "source": [
        "# Define el problema como un problema de maximización\n",
        "creator.create(\"FitnessMax\", base.Fitness, weights=(1.0,))\n",
        "creator.create(\"Individual\", list, fitness=creator.FitnessMax)\n",
        "\n",
        "# Define las funciones auxiliares\n",
        "def random_bit():\n",
        "    return random.randint(0, 1)\n",
        "\n",
        "def random_gene():\n",
        "    return [random_bit() for _ in range(GENE_LENGTH)]\n",
        "\n",
        "def decode_gene(gene):\n",
        "    return int(\"\".join(map(str, gene)), 2) / BIT_MULTIPLIER\n",
        "\n",
        "def evaluate(individual):\n",
        "    # Decodifica el cromosoma en un círculo\n",
        "    circle_radius = decode_gene(individual)\n",
        "    circle = Circle(Point(WINDOW_WIDTH // 2, WINDOW_HEIGHT // 2), circle_radius)\n",
        "\n",
        "    # Calcula el área del círculo\n",
        "    circle_area = circle.area\n",
        "\n",
        "    # Calcula el área de superposición con otros círculos\n",
        "    overlap_area = sum(circle.intersection_area(other) for other in circles)\n",
        "\n",
        "    # El fitness es el área del círculo menos el área de superposición\n",
        "    fitness = circle_area - overlap_area\n",
        "    return fitness,\n",
        "\n",
        "def crossover(ind1, ind2):\n",
        "    # Cruce de un solo punto\n",
        "    crossover_point = random.randint(1, CHROMO_LENGTH - 1)\n",
        "    ind1[crossover_point:], ind2[crossover_point:] = ind2[crossover_point:], ind1[crossover_point:]\n",
        "    return ind1, ind2\n",
        "\n",
        "def mutate(individual):\n",
        "    # Mutación de 2 opciones\n",
        "    bit_to_mutate = random.randint(0, CHROMO_LENGTH - 1)\n",
        "    individual[bit_to_mutate] = random_bit()\n",
        "    return individual\n",
        "\n",
        "# Registra las operaciones genéticas\n",
        "toolbox = base.Toolbox()\n",
        "toolbox.register(\"attr_bool\", random_bit)\n",
        "toolbox.register(\"individual\", tools.initRepeat, creator.Individual, toolbox.attr_bool, n=CHROMO_LENGTH)\n",
        "toolbox.register(\"population\", tools.initRepeat, list, toolbox.individual)\n",
        "toolbox.register(\"evaluate\", evaluate)\n",
        "toolbox.register(\"mate\", crossover)\n",
        "toolbox.register(\"mutate\", mutate)\n",
        "toolbox.register(\"select\", tools.selTournament, tournsize=3)\n",
        "\n",
        "# Crea una población inicial\n",
        "population = toolbox.population(n=POP_SIZE)\n",
        "\n",
        "# Define las estadísticas para el registro\n",
        "stats = tools.Statistics(lambda ind: ind.fitness.values)\n",
        "stats.register(\"max\", np.max)\n",
        "\n",
        "# Evoluciona la población\n",
        "population, logbook = algorithms.eaSimple(population, toolbox, cxpb=CROSSOVER_RATE, mutpb=MUTATION_RATE,\n",
        "                                           ngen=NGEN, verbose=True)\n",
        "\n",
        "# Obtiene el mejor individuo de la última generación\n",
        "best_individual = tools.selBest(population, k=1)[0]\n",
        "best_circle_radius = decode_gene(best_individual)\n",
        "best_circle = Circle(Point(WINDOW_WIDTH // 2, WINDOW_HEIGHT // 2), best_circle_radius)\n",
        "\n",
        "print(\"El mejor círculo tiene un radio de:\", best_circle_radius)"
      ],
      "metadata": {
        "id": "as9Qd8y76oAg",
        "outputId": "d8301e4a-4d19-4ef5-c074-b4dd4d23b453",
        "colab": {
          "base_uri": "https://localhost:8080/",
          "height": 842
        }
      },
      "id": "as9Qd8y76oAg",
      "execution_count": null,
      "outputs": [
        {
          "output_type": "error",
          "ename": "ValueError",
          "evalue": "math domain error",
          "traceback": [
            "\u001b[0;31m---------------------------------------------------------------------------\u001b[0m",
            "\u001b[0;31mValueError\u001b[0m                                Traceback (most recent call last)",
            "\u001b[0;32m<ipython-input-7-3efc15b768ac>\u001b[0m in \u001b[0;36m<cell line: 62>\u001b[0;34m()\u001b[0m\n\u001b[1;32m     60\u001b[0m \u001b[0;34m\u001b[0m\u001b[0m\n\u001b[1;32m     61\u001b[0m \u001b[0;31m# Evoluciona la población\u001b[0m\u001b[0;34m\u001b[0m\u001b[0;34m\u001b[0m\u001b[0m\n\u001b[0;32m---> 62\u001b[0;31m population, logbook = algorithms.eaSimple(population, toolbox, cxpb=CROSSOVER_RATE, mutpb=MUTATION_RATE, \n\u001b[0m\u001b[1;32m     63\u001b[0m                                            ngen=NGEN, verbose=True)\n\u001b[1;32m     64\u001b[0m \u001b[0;34m\u001b[0m\u001b[0m\n",
            "\u001b[0;32m/usr/local/lib/python3.10/dist-packages/deap/algorithms.py\u001b[0m in \u001b[0;36meaSimple\u001b[0;34m(population, toolbox, cxpb, mutpb, ngen, stats, halloffame, verbose)\u001b[0m\n\u001b[1;32m    149\u001b[0m     \u001b[0minvalid_ind\u001b[0m \u001b[0;34m=\u001b[0m \u001b[0;34m[\u001b[0m\u001b[0mind\u001b[0m \u001b[0;32mfor\u001b[0m \u001b[0mind\u001b[0m \u001b[0;32min\u001b[0m \u001b[0mpopulation\u001b[0m \u001b[0;32mif\u001b[0m \u001b[0;32mnot\u001b[0m \u001b[0mind\u001b[0m\u001b[0;34m.\u001b[0m\u001b[0mfitness\u001b[0m\u001b[0;34m.\u001b[0m\u001b[0mvalid\u001b[0m\u001b[0;34m]\u001b[0m\u001b[0;34m\u001b[0m\u001b[0;34m\u001b[0m\u001b[0m\n\u001b[1;32m    150\u001b[0m     \u001b[0mfitnesses\u001b[0m \u001b[0;34m=\u001b[0m \u001b[0mtoolbox\u001b[0m\u001b[0;34m.\u001b[0m\u001b[0mmap\u001b[0m\u001b[0;34m(\u001b[0m\u001b[0mtoolbox\u001b[0m\u001b[0;34m.\u001b[0m\u001b[0mevaluate\u001b[0m\u001b[0;34m,\u001b[0m \u001b[0minvalid_ind\u001b[0m\u001b[0;34m)\u001b[0m\u001b[0;34m\u001b[0m\u001b[0;34m\u001b[0m\u001b[0m\n\u001b[0;32m--> 151\u001b[0;31m     \u001b[0;32mfor\u001b[0m \u001b[0mind\u001b[0m\u001b[0;34m,\u001b[0m \u001b[0mfit\u001b[0m \u001b[0;32min\u001b[0m \u001b[0mzip\u001b[0m\u001b[0;34m(\u001b[0m\u001b[0minvalid_ind\u001b[0m\u001b[0;34m,\u001b[0m \u001b[0mfitnesses\u001b[0m\u001b[0;34m)\u001b[0m\u001b[0;34m:\u001b[0m\u001b[0;34m\u001b[0m\u001b[0;34m\u001b[0m\u001b[0m\n\u001b[0m\u001b[1;32m    152\u001b[0m         \u001b[0mind\u001b[0m\u001b[0;34m.\u001b[0m\u001b[0mfitness\u001b[0m\u001b[0;34m.\u001b[0m\u001b[0mvalues\u001b[0m \u001b[0;34m=\u001b[0m \u001b[0mfit\u001b[0m\u001b[0;34m\u001b[0m\u001b[0;34m\u001b[0m\u001b[0m\n\u001b[1;32m    153\u001b[0m \u001b[0;34m\u001b[0m\u001b[0m\n",
            "\u001b[0;32m<ipython-input-7-3efc15b768ac>\u001b[0m in \u001b[0;36mevaluate\u001b[0;34m(individual)\u001b[0m\n\u001b[1;32m     24\u001b[0m \u001b[0;34m\u001b[0m\u001b[0m\n\u001b[1;32m     25\u001b[0m     \u001b[0;31m# Calcula el área de superposición con otros círculos\u001b[0m\u001b[0;34m\u001b[0m\u001b[0;34m\u001b[0m\u001b[0m\n\u001b[0;32m---> 26\u001b[0;31m     \u001b[0moverlap_area\u001b[0m \u001b[0;34m=\u001b[0m \u001b[0msum\u001b[0m\u001b[0;34m(\u001b[0m\u001b[0mcircle\u001b[0m\u001b[0;34m.\u001b[0m\u001b[0mintersection_area\u001b[0m\u001b[0;34m(\u001b[0m\u001b[0mother\u001b[0m\u001b[0;34m)\u001b[0m \u001b[0;32mfor\u001b[0m \u001b[0mother\u001b[0m \u001b[0;32min\u001b[0m \u001b[0mcircles\u001b[0m\u001b[0;34m)\u001b[0m\u001b[0;34m\u001b[0m\u001b[0;34m\u001b[0m\u001b[0m\n\u001b[0m\u001b[1;32m     27\u001b[0m \u001b[0;34m\u001b[0m\u001b[0m\n\u001b[1;32m     28\u001b[0m     \u001b[0;31m# El fitness es el área del círculo menos el área de superposición\u001b[0m\u001b[0;34m\u001b[0m\u001b[0;34m\u001b[0m\u001b[0m\n",
            "\u001b[0;32m<ipython-input-7-3efc15b768ac>\u001b[0m in \u001b[0;36m<genexpr>\u001b[0;34m(.0)\u001b[0m\n\u001b[1;32m     24\u001b[0m \u001b[0;34m\u001b[0m\u001b[0m\n\u001b[1;32m     25\u001b[0m     \u001b[0;31m# Calcula el área de superposición con otros círculos\u001b[0m\u001b[0;34m\u001b[0m\u001b[0;34m\u001b[0m\u001b[0m\n\u001b[0;32m---> 26\u001b[0;31m     \u001b[0moverlap_area\u001b[0m \u001b[0;34m=\u001b[0m \u001b[0msum\u001b[0m\u001b[0;34m(\u001b[0m\u001b[0mcircle\u001b[0m\u001b[0;34m.\u001b[0m\u001b[0mintersection_area\u001b[0m\u001b[0;34m(\u001b[0m\u001b[0mother\u001b[0m\u001b[0;34m)\u001b[0m \u001b[0;32mfor\u001b[0m \u001b[0mother\u001b[0m \u001b[0;32min\u001b[0m \u001b[0mcircles\u001b[0m\u001b[0;34m)\u001b[0m\u001b[0;34m\u001b[0m\u001b[0;34m\u001b[0m\u001b[0m\n\u001b[0m\u001b[1;32m     27\u001b[0m \u001b[0;34m\u001b[0m\u001b[0m\n\u001b[1;32m     28\u001b[0m     \u001b[0;31m# El fitness es el área del círculo menos el área de superposición\u001b[0m\u001b[0;34m\u001b[0m\u001b[0;34m\u001b[0m\u001b[0m\n",
            "\u001b[0;32m<ipython-input-3-0d0335dbed34>\u001b[0m in \u001b[0;36mintersection_area\u001b[0;34m(self, other)\u001b[0m\n\u001b[1;32m    117\u001b[0m                 \u001b[0;31m# first calculate the intersection points\u001b[0m\u001b[0;34m\u001b[0m\u001b[0;34m\u001b[0m\u001b[0m\n\u001b[1;32m    118\u001b[0m \u001b[0;34m\u001b[0m\u001b[0m\n\u001b[0;32m--> 119\u001b[0;31m                 \u001b[0mpoints\u001b[0m \u001b[0;34m=\u001b[0m \u001b[0mself\u001b[0m\u001b[0;34m.\u001b[0m\u001b[0mintersection_points\u001b[0m\u001b[0;34m(\u001b[0m\u001b[0mother\u001b[0m\u001b[0;34m)\u001b[0m\u001b[0;34m\u001b[0m\u001b[0;34m\u001b[0m\u001b[0m\n\u001b[0m\u001b[1;32m    120\u001b[0m \u001b[0;34m\u001b[0m\u001b[0m\n\u001b[1;32m    121\u001b[0m                 \u001b[0;32mif\u001b[0m \u001b[0mlen\u001b[0m\u001b[0;34m(\u001b[0m\u001b[0mpoints\u001b[0m\u001b[0;34m)\u001b[0m \u001b[0;34m==\u001b[0m \u001b[0;36m0\u001b[0m\u001b[0;34m:\u001b[0m\u001b[0;34m\u001b[0m\u001b[0;34m\u001b[0m\u001b[0m\n",
            "\u001b[0;32m<ipython-input-3-0d0335dbed34>\u001b[0m in \u001b[0;36mintersection_points\u001b[0;34m(self, other)\u001b[0m\n\u001b[1;32m    100\u001b[0m \u001b[0;34m\u001b[0m\u001b[0m\n\u001b[1;32m    101\u001b[0m                 \u001b[0;31m# calculate second point\u001b[0m\u001b[0;34m\u001b[0m\u001b[0;34m\u001b[0m\u001b[0m\n\u001b[0;32m--> 102\u001b[0;31m                 \u001b[0mh2\u001b[0m \u001b[0;34m=\u001b[0m \u001b[0msqrt\u001b[0m\u001b[0;34m(\u001b[0m\u001b[0mr2\u001b[0m \u001b[0;34m**\u001b[0m \u001b[0;36m2\u001b[0m \u001b[0;34m-\u001b[0m \u001b[0ma\u001b[0m \u001b[0;34m**\u001b[0m \u001b[0;36m2\u001b[0m\u001b[0;34m)\u001b[0m\u001b[0;34m\u001b[0m\u001b[0;34m\u001b[0m\u001b[0m\n\u001b[0m\u001b[1;32m    103\u001b[0m \u001b[0;34m\u001b[0m\u001b[0m\n\u001b[1;32m    104\u001b[0m                 \u001b[0mp4X\u001b[0m \u001b[0;34m=\u001b[0m \u001b[0mp2X\u001b[0m \u001b[0;34m+\u001b[0m \u001b[0mh2\u001b[0m \u001b[0;34m*\u001b[0m \u001b[0;34m(\u001b[0m\u001b[0my2\u001b[0m \u001b[0;34m-\u001b[0m \u001b[0my1\u001b[0m\u001b[0;34m)\u001b[0m \u001b[0;34m/\u001b[0m \u001b[0md\u001b[0m\u001b[0;34m\u001b[0m\u001b[0;34m\u001b[0m\u001b[0m\n",
            "\u001b[0;31mValueError\u001b[0m: math domain error"
          ]
        }
      ]
    },
    {
      "cell_type": "code",
      "source": [
        "def draw_circles(circles, best_circle=None):\n",
        "    img = Image.new('RGB', (WINDOW_WIDTH, WINDOW_HEIGHT), color='white')\n",
        "    draw = ImageDraw.Draw(img)\n",
        "    for circle in circles:\n",
        "        x0 = int(circle.center.x - circle.radius)\n",
        "        y0 = int(circle.center.y - circle.radius)\n",
        "        x1 = int(circle.center.x + circle.radius)\n",
        "        y1 = int(circle.center.y + circle.radius)\n",
        "        draw.ellipse([x0, y0, x1, y1], outline='black', width=1)\n",
        "    if best_circle:\n",
        "        x0 = int(best_circle.center.x - best_circle.radius)\n",
        "        y0 = int(best_circle.center.y - best_circle.radius)\n",
        "        x1 = int(best_circle.center.x + best_circle.radius)\n",
        "        y1 = int(best_circle.center.y + best_circle.radius)\n",
        "        draw.ellipse([x0, y0, x1, y1], outline='red', width=2)\n",
        "    img.show()\n",
        "\n",
        "# Llama a la función draw_circles con los círculos generados y el mejor círculo encontrado\n",
        "draw_circles(circles, best_circle)\n"
      ],
      "metadata": {
        "id": "CxdQjyI768Ne"
      },
      "id": "CxdQjyI768Ne",
      "execution_count": null,
      "outputs": []
    }
  ],
  "metadata": {
    "kernelspec": {
      "name": "python3",
      "display_name": "Python 3",
      "language": "python"
    },
    "language_info": {
      "name": "python",
      "version": "3.10.4",
      "mimetype": "text/x-python",
      "codemirror_mode": {
        "name": "ipython",
        "version": 3
      },
      "pygments_lexer": "ipython3",
      "nbconvert_exporter": "python",
      "file_extension": ".py"
    },
    "colab": {
      "provenance": [],
      "include_colab_link": true
    }
  },
  "nbformat": 4,
  "nbformat_minor": 5
}